{
 "cells": [
  {
   "cell_type": "code",
   "execution_count": 3,
   "id": "74d091f0-5779-4237-8a2a-4cabb41b07b3",
   "metadata": {},
   "outputs": [],
   "source": [
    "import os\n",
    "import pandas as pd\n",
    "import numpy as np\n",
    "import matplotlib.pyplot as plt\n",
    "import seaborn as sns # Seaborn is a Python data visualization library based on matplotlib.\n",
    "%matplotlib inline"
   ]
  },
  {
   "cell_type": "code",
   "execution_count": 1,
   "id": "1cfd89fa-8195-4ba3-88e9-22c0158ec75e",
   "metadata": {},
   "outputs": [],
   "source": [
    "#Alpha Agency project of customer Ageng in CRM and resolution within days"
   ]
  },
  {
   "cell_type": "code",
   "execution_count": 13,
   "id": "b5369b2b-615d-4fc8-b5ca-c3a5d7d8002b",
   "metadata": {},
   "outputs": [],
   "source": [
    "df1=pd.read_csv('Alpha.csv')"
   ]
  },
  {
   "cell_type": "code",
   "execution_count": 14,
   "id": "3ed2929d-18c0-4087-9449-2152168cad01",
   "metadata": {},
   "outputs": [
    {
     "data": {
      "text/html": [
       "<div>\n",
       "<style scoped>\n",
       "    .dataframe tbody tr th:only-of-type {\n",
       "        vertical-align: middle;\n",
       "    }\n",
       "\n",
       "    .dataframe tbody tr th {\n",
       "        vertical-align: top;\n",
       "    }\n",
       "\n",
       "    .dataframe thead th {\n",
       "        text-align: right;\n",
       "    }\n",
       "</style>\n",
       "<table border=\"1\" class=\"dataframe\">\n",
       "  <thead>\n",
       "    <tr style=\"text-align: right;\">\n",
       "      <th></th>\n",
       "      <th>Sr no</th>\n",
       "      <th>Account</th>\n",
       "      <th>status</th>\n",
       "      <th>Registered phone</th>\n",
       "      <th>Age</th>\n",
       "      <th>processing</th>\n",
       "      <th>Sub status</th>\n",
       "      <th>Address</th>\n",
       "      <th>Unnamed: 8</th>\n",
       "      <th>Unnamed: 9</th>\n",
       "      <th>Unnamed: 10</th>\n",
       "      <th>Unnamed: 11</th>\n",
       "      <th>Unnamed: 12</th>\n",
       "      <th>Unnamed: 13</th>\n",
       "    </tr>\n",
       "  </thead>\n",
       "  <tbody>\n",
       "    <tr>\n",
       "      <th>0</th>\n",
       "      <td>24090321601</td>\n",
       "      <td>Ginger Hotel Pimpri</td>\n",
       "      <td>Open</td>\n",
       "      <td>7057603590</td>\n",
       "      <td>1</td>\n",
       "      <td>NaN</td>\n",
       "      <td>Technician Allocation Pending</td>\n",
       "      <td>Ambedkar chowk Kohinoor treding primaries ging...</td>\n",
       "      <td>NaN</td>\n",
       "      <td>NaN</td>\n",
       "      <td>NaN</td>\n",
       "      <td>NaN</td>\n",
       "      <td>NaN</td>\n",
       "      <td>NaN</td>\n",
       "    </tr>\n",
       "    <tr>\n",
       "      <th>1</th>\n",
       "      <td>24090402464</td>\n",
       "      <td>P3ENMX08</td>\n",
       "      <td>Open</td>\n",
       "      <td>8879218578</td>\n",
       "      <td>0</td>\n",
       "      <td>NaN</td>\n",
       "      <td>Technician Allocation Pending</td>\n",
       "      <td>Plot no PAP-X-105, /106 Bhamboli Khed, Khed, C...</td>\n",
       "      <td>NaN</td>\n",
       "      <td>NaN</td>\n",
       "      <td>NaN</td>\n",
       "      <td>NaN</td>\n",
       "      <td>NaN</td>\n",
       "      <td>NaN</td>\n",
       "    </tr>\n",
       "    <tr>\n",
       "      <th>2</th>\n",
       "      <td>24090401647</td>\n",
       "      <td>P3ENMX08</td>\n",
       "      <td>Open</td>\n",
       "      <td>8879218578</td>\n",
       "      <td>0</td>\n",
       "      <td>NaN</td>\n",
       "      <td>Technician Allocation Pending</td>\n",
       "      <td>Plot no PAP-X-105, /106 Bhamboli Khed, Khed, C...</td>\n",
       "      <td>NaN</td>\n",
       "      <td>NaN</td>\n",
       "      <td>NaN</td>\n",
       "      <td>NaN</td>\n",
       "      <td>NaN</td>\n",
       "      <td>NaN</td>\n",
       "    </tr>\n",
       "    <tr>\n",
       "      <th>3</th>\n",
       "      <td>24090402333</td>\n",
       "      <td>P3ECPN02</td>\n",
       "      <td>Open</td>\n",
       "      <td>8879218578</td>\n",
       "      <td>0</td>\n",
       "      <td>NaN</td>\n",
       "      <td>Technician Allocation Pending</td>\n",
       "      <td>Kate wasti, Charoli- Alandi, Pune, Alandi Deva...</td>\n",
       "      <td>NaN</td>\n",
       "      <td>NaN</td>\n",
       "      <td>NaN</td>\n",
       "      <td>NaN</td>\n",
       "      <td>NaN</td>\n",
       "      <td>NaN</td>\n",
       "    </tr>\n",
       "    <tr>\n",
       "      <th>4</th>\n",
       "      <td>24090321924</td>\n",
       "      <td>Ginger Hotel Pimpri</td>\n",
       "      <td>Open</td>\n",
       "      <td>7057603590</td>\n",
       "      <td>1</td>\n",
       "      <td>NaN</td>\n",
       "      <td>Technician Allocation Pending</td>\n",
       "      <td>Ambedkar chowk Kohinoor treding primaries ging...</td>\n",
       "      <td>NaN</td>\n",
       "      <td>NaN</td>\n",
       "      <td>NaN</td>\n",
       "      <td>NaN</td>\n",
       "      <td>NaN</td>\n",
       "      <td>NaN</td>\n",
       "    </tr>\n",
       "  </tbody>\n",
       "</table>\n",
       "</div>"
      ],
      "text/plain": [
       "         Sr no              Account status  Registered phone  Age  processing  \\\n",
       "0  24090321601  Ginger Hotel Pimpri   Open        7057603590    1         NaN   \n",
       "1  24090402464             P3ENMX08   Open        8879218578    0         NaN   \n",
       "2  24090401647             P3ENMX08   Open        8879218578    0         NaN   \n",
       "3  24090402333             P3ECPN02   Open        8879218578    0         NaN   \n",
       "4  24090321924  Ginger Hotel Pimpri   Open        7057603590    1         NaN   \n",
       "\n",
       "                      Sub status  \\\n",
       "0  Technician Allocation Pending   \n",
       "1  Technician Allocation Pending   \n",
       "2  Technician Allocation Pending   \n",
       "3  Technician Allocation Pending   \n",
       "4  Technician Allocation Pending   \n",
       "\n",
       "                                             Address  Unnamed: 8  Unnamed: 9  \\\n",
       "0  Ambedkar chowk Kohinoor treding primaries ging...         NaN         NaN   \n",
       "1  Plot no PAP-X-105, /106 Bhamboli Khed, Khed, C...         NaN         NaN   \n",
       "2  Plot no PAP-X-105, /106 Bhamboli Khed, Khed, C...         NaN         NaN   \n",
       "3  Kate wasti, Charoli- Alandi, Pune, Alandi Deva...         NaN         NaN   \n",
       "4  Ambedkar chowk Kohinoor treding primaries ging...         NaN         NaN   \n",
       "\n",
       "   Unnamed: 10  Unnamed: 11  Unnamed: 12  Unnamed: 13  \n",
       "0          NaN          NaN          NaN          NaN  \n",
       "1          NaN          NaN          NaN          NaN  \n",
       "2          NaN          NaN          NaN          NaN  \n",
       "3          NaN          NaN          NaN          NaN  \n",
       "4          NaN          NaN          NaN          NaN  "
      ]
     },
     "execution_count": 14,
     "metadata": {},
     "output_type": "execute_result"
    }
   ],
   "source": [
    "df1.head()"
   ]
  },
  {
   "cell_type": "code",
   "execution_count": 16,
   "id": "727c5672-f904-42a9-9509-6a204441143d",
   "metadata": {},
   "outputs": [
    {
     "data": {
      "text/plain": [
       "(46, 14)"
      ]
     },
     "execution_count": 16,
     "metadata": {},
     "output_type": "execute_result"
    }
   ],
   "source": [
    "df1.shape"
   ]
  },
  {
   "cell_type": "code",
   "execution_count": 19,
   "id": "467529c1-f0d6-4546-ac0e-05920dc62240",
   "metadata": {},
   "outputs": [
    {
     "data": {
      "text/plain": [
       "Sr no                0\n",
       "Account              0\n",
       "status               0\n",
       "Registered phone     0\n",
       "Age                  0\n",
       "processing          46\n",
       "Sub status           0\n",
       "Address              0\n",
       "Unnamed: 8          46\n",
       "Unnamed: 9          46\n",
       "Unnamed: 10         46\n",
       "Unnamed: 11         46\n",
       "Unnamed: 12         46\n",
       "Unnamed: 13         46\n",
       "dtype: int64"
      ]
     },
     "execution_count": 19,
     "metadata": {},
     "output_type": "execute_result"
    }
   ],
   "source": [
    "df1.isnull().sum()"
   ]
  },
  {
   "cell_type": "code",
   "execution_count": 20,
   "id": "d9ac88e5-970f-4e94-8e15-db5f85a17a70",
   "metadata": {},
   "outputs": [
    {
     "data": {
      "text/html": [
       "<div>\n",
       "<style scoped>\n",
       "    .dataframe tbody tr th:only-of-type {\n",
       "        vertical-align: middle;\n",
       "    }\n",
       "\n",
       "    .dataframe tbody tr th {\n",
       "        vertical-align: top;\n",
       "    }\n",
       "\n",
       "    .dataframe thead th {\n",
       "        text-align: right;\n",
       "    }\n",
       "</style>\n",
       "<table border=\"1\" class=\"dataframe\">\n",
       "  <thead>\n",
       "    <tr style=\"text-align: right;\">\n",
       "      <th></th>\n",
       "      <th>Sr no</th>\n",
       "      <th>Registered phone</th>\n",
       "      <th>Age</th>\n",
       "      <th>processing</th>\n",
       "      <th>Unnamed: 8</th>\n",
       "      <th>Unnamed: 9</th>\n",
       "      <th>Unnamed: 10</th>\n",
       "      <th>Unnamed: 11</th>\n",
       "      <th>Unnamed: 12</th>\n",
       "      <th>Unnamed: 13</th>\n",
       "    </tr>\n",
       "  </thead>\n",
       "  <tbody>\n",
       "    <tr>\n",
       "      <th>count</th>\n",
       "      <td>4.600000e+01</td>\n",
       "      <td>4.600000e+01</td>\n",
       "      <td>46.000000</td>\n",
       "      <td>0.0</td>\n",
       "      <td>0.0</td>\n",
       "      <td>0.0</td>\n",
       "      <td>0.0</td>\n",
       "      <td>0.0</td>\n",
       "      <td>0.0</td>\n",
       "      <td>0.0</td>\n",
       "    </tr>\n",
       "    <tr>\n",
       "      <th>mean</th>\n",
       "      <td>2.408911e+10</td>\n",
       "      <td>8.041888e+09</td>\n",
       "      <td>2.521739</td>\n",
       "      <td>NaN</td>\n",
       "      <td>NaN</td>\n",
       "      <td>NaN</td>\n",
       "      <td>NaN</td>\n",
       "      <td>NaN</td>\n",
       "      <td>NaN</td>\n",
       "      <td>NaN</td>\n",
       "    </tr>\n",
       "    <tr>\n",
       "      <th>std</th>\n",
       "      <td>2.839902e+06</td>\n",
       "      <td>7.903827e+08</td>\n",
       "      <td>3.563638</td>\n",
       "      <td>NaN</td>\n",
       "      <td>NaN</td>\n",
       "      <td>NaN</td>\n",
       "      <td>NaN</td>\n",
       "      <td>NaN</td>\n",
       "      <td>NaN</td>\n",
       "      <td>NaN</td>\n",
       "    </tr>\n",
       "    <tr>\n",
       "      <th>min</th>\n",
       "      <td>2.408221e+10</td>\n",
       "      <td>7.057604e+09</td>\n",
       "      <td>0.000000</td>\n",
       "      <td>NaN</td>\n",
       "      <td>NaN</td>\n",
       "      <td>NaN</td>\n",
       "      <td>NaN</td>\n",
       "      <td>NaN</td>\n",
       "      <td>NaN</td>\n",
       "      <td>NaN</td>\n",
       "    </tr>\n",
       "    <tr>\n",
       "      <th>25%</th>\n",
       "      <td>2.409020e+10</td>\n",
       "      <td>7.506244e+09</td>\n",
       "      <td>1.000000</td>\n",
       "      <td>NaN</td>\n",
       "      <td>NaN</td>\n",
       "      <td>NaN</td>\n",
       "      <td>NaN</td>\n",
       "      <td>NaN</td>\n",
       "      <td>NaN</td>\n",
       "      <td>NaN</td>\n",
       "    </tr>\n",
       "    <tr>\n",
       "      <th>50%</th>\n",
       "      <td>2.409032e+10</td>\n",
       "      <td>7.506244e+09</td>\n",
       "      <td>1.000000</td>\n",
       "      <td>NaN</td>\n",
       "      <td>NaN</td>\n",
       "      <td>NaN</td>\n",
       "      <td>NaN</td>\n",
       "      <td>NaN</td>\n",
       "      <td>NaN</td>\n",
       "      <td>NaN</td>\n",
       "    </tr>\n",
       "    <tr>\n",
       "      <th>75%</th>\n",
       "      <td>2.409032e+10</td>\n",
       "      <td>8.879219e+09</td>\n",
       "      <td>2.000000</td>\n",
       "      <td>NaN</td>\n",
       "      <td>NaN</td>\n",
       "      <td>NaN</td>\n",
       "      <td>NaN</td>\n",
       "      <td>NaN</td>\n",
       "      <td>NaN</td>\n",
       "      <td>NaN</td>\n",
       "    </tr>\n",
       "    <tr>\n",
       "      <th>max</th>\n",
       "      <td>2.409040e+10</td>\n",
       "      <td>9.890929e+09</td>\n",
       "      <td>13.000000</td>\n",
       "      <td>NaN</td>\n",
       "      <td>NaN</td>\n",
       "      <td>NaN</td>\n",
       "      <td>NaN</td>\n",
       "      <td>NaN</td>\n",
       "      <td>NaN</td>\n",
       "      <td>NaN</td>\n",
       "    </tr>\n",
       "  </tbody>\n",
       "</table>\n",
       "</div>"
      ],
      "text/plain": [
       "              Sr no  Registered phone        Age  processing  Unnamed: 8  \\\n",
       "count  4.600000e+01      4.600000e+01  46.000000         0.0         0.0   \n",
       "mean   2.408911e+10      8.041888e+09   2.521739         NaN         NaN   \n",
       "std    2.839902e+06      7.903827e+08   3.563638         NaN         NaN   \n",
       "min    2.408221e+10      7.057604e+09   0.000000         NaN         NaN   \n",
       "25%    2.409020e+10      7.506244e+09   1.000000         NaN         NaN   \n",
       "50%    2.409032e+10      7.506244e+09   1.000000         NaN         NaN   \n",
       "75%    2.409032e+10      8.879219e+09   2.000000         NaN         NaN   \n",
       "max    2.409040e+10      9.890929e+09  13.000000         NaN         NaN   \n",
       "\n",
       "       Unnamed: 9  Unnamed: 10  Unnamed: 11  Unnamed: 12  Unnamed: 13  \n",
       "count         0.0          0.0          0.0          0.0          0.0  \n",
       "mean          NaN          NaN          NaN          NaN          NaN  \n",
       "std           NaN          NaN          NaN          NaN          NaN  \n",
       "min           NaN          NaN          NaN          NaN          NaN  \n",
       "25%           NaN          NaN          NaN          NaN          NaN  \n",
       "50%           NaN          NaN          NaN          NaN          NaN  \n",
       "75%           NaN          NaN          NaN          NaN          NaN  \n",
       "max           NaN          NaN          NaN          NaN          NaN  "
      ]
     },
     "execution_count": 20,
     "metadata": {},
     "output_type": "execute_result"
    }
   ],
   "source": [
    "df1.describe()"
   ]
  },
  {
   "cell_type": "code",
   "execution_count": 23,
   "id": "07a4cb3b-496f-4759-82d8-d2b4ab1044e4",
   "metadata": {},
   "outputs": [
    {
     "name": "stdout",
     "output_type": "stream",
     "text": [
      "<class 'pandas.core.frame.DataFrame'>\n",
      "RangeIndex: 46 entries, 0 to 45\n",
      "Data columns (total 14 columns):\n",
      " #   Column            Non-Null Count  Dtype  \n",
      "---  ------            --------------  -----  \n",
      " 0   Sr no             46 non-null     int64  \n",
      " 1   Account           46 non-null     object \n",
      " 2   status            46 non-null     object \n",
      " 3   Registered phone  46 non-null     int64  \n",
      " 4   Age               46 non-null     int64  \n",
      " 5   processing        0 non-null      float64\n",
      " 6   Sub status        46 non-null     object \n",
      " 7   Address           46 non-null     object \n",
      " 8   Unnamed: 8        0 non-null      float64\n",
      " 9   Unnamed: 9        0 non-null      float64\n",
      " 10  Unnamed: 10       0 non-null      float64\n",
      " 11  Unnamed: 11       0 non-null      float64\n",
      " 12  Unnamed: 12       0 non-null      float64\n",
      " 13  Unnamed: 13       0 non-null      float64\n",
      "dtypes: float64(7), int64(3), object(4)\n",
      "memory usage: 5.2+ KB\n"
     ]
    }
   ],
   "source": [
    "df1.info()"
   ]
  },
  {
   "cell_type": "code",
   "execution_count": 24,
   "id": "c0baa664-5f8f-4dd7-a546-d61702283479",
   "metadata": {},
   "outputs": [
    {
     "name": "stderr",
     "output_type": "stream",
     "text": [
      "C:\\Users\\admin\\anaconda3\\Lib\\site-packages\\seaborn\\_oldcore.py:1119: FutureWarning: use_inf_as_na option is deprecated and will be removed in a future version. Convert inf values to NaN before operating instead.\n",
      "  with pd.option_context('mode.use_inf_as_na', True):\n"
     ]
    },
    {
     "data": {
      "text/plain": [
       "<seaborn.axisgrid.FacetGrid at 0x21f08ce1190>"
      ]
     },
     "execution_count": 24,
     "metadata": {},
     "output_type": "execute_result"
    },
    {
     "data": {
      "image/png": "[encoded data removed]",
      "text/plain": [
       "<Figure size 500x500 with 1 Axes>"
      ]
     },
     "metadata": {},
     "output_type": "display_data"
    }
   ],
   "source": [
    "sns.displot(df1['Age'])"
   ]
  },
  {
   "cell_type": "code",
   "execution_count": 11,
   "id": "750c0a40-bf14-480b-9166-47112d336d07",
   "metadata": {},
   "outputs": [],
   "source": [
    "df1=pd.read_csv('Alpha.csv')"
   ]
  },
  {
   "cell_type": "code",
   "execution_count": 13,
   "id": "bf8cfbb4-a7bf-4fac-983a-b3ce478553cc",
   "metadata": {},
   "outputs": [
    {
     "data": {
      "text/html": [
       "<div>\n",
       "<style scoped>\n",
       "    .dataframe tbody tr th:only-of-type {\n",
       "        vertical-align: middle;\n",
       "    }\n",
       "\n",
       "    .dataframe tbody tr th {\n",
       "        vertical-align: top;\n",
       "    }\n",
       "\n",
       "    .dataframe thead th {\n",
       "        text-align: right;\n",
       "    }\n",
       "</style>\n",
       "<table border=\"1\" class=\"dataframe\">\n",
       "  <thead>\n",
       "    <tr style=\"text-align: right;\">\n",
       "      <th></th>\n",
       "      <th>Sr no</th>\n",
       "      <th>Account</th>\n",
       "      <th>status</th>\n",
       "      <th>Registered phone</th>\n",
       "      <th>Age</th>\n",
       "      <th>processing</th>\n",
       "      <th>Sub status</th>\n",
       "      <th>Address</th>\n",
       "      <th>Unnamed: 8</th>\n",
       "      <th>Unnamed: 9</th>\n",
       "      <th>Unnamed: 10</th>\n",
       "      <th>Unnamed: 11</th>\n",
       "      <th>Unnamed: 12</th>\n",
       "      <th>Unnamed: 13</th>\n",
       "    </tr>\n",
       "  </thead>\n",
       "  <tbody>\n",
       "    <tr>\n",
       "      <th>0</th>\n",
       "      <td>24090321601</td>\n",
       "      <td>Ginger Hotel Pimpri</td>\n",
       "      <td>Open</td>\n",
       "      <td>7057603590</td>\n",
       "      <td>1</td>\n",
       "      <td>NaN</td>\n",
       "      <td>Technician Allocation Pending</td>\n",
       "      <td>Ambedkar chowk Kohinoor treding primaries ging...</td>\n",
       "      <td>NaN</td>\n",
       "      <td>NaN</td>\n",
       "      <td>NaN</td>\n",
       "      <td>NaN</td>\n",
       "      <td>NaN</td>\n",
       "      <td>NaN</td>\n",
       "    </tr>\n",
       "    <tr>\n",
       "      <th>1</th>\n",
       "      <td>24090402464</td>\n",
       "      <td>P3ENMX08</td>\n",
       "      <td>Open</td>\n",
       "      <td>8879218578</td>\n",
       "      <td>0</td>\n",
       "      <td>NaN</td>\n",
       "      <td>Technician Allocation Pending</td>\n",
       "      <td>Plot no PAP-X-105, /106 Bhamboli Khed, Khed, C...</td>\n",
       "      <td>NaN</td>\n",
       "      <td>NaN</td>\n",
       "      <td>NaN</td>\n",
       "      <td>NaN</td>\n",
       "      <td>NaN</td>\n",
       "      <td>NaN</td>\n",
       "    </tr>\n",
       "    <tr>\n",
       "      <th>2</th>\n",
       "      <td>24090401647</td>\n",
       "      <td>P3ENMX08</td>\n",
       "      <td>Open</td>\n",
       "      <td>8879218578</td>\n",
       "      <td>0</td>\n",
       "      <td>NaN</td>\n",
       "      <td>Technician Allocation Pending</td>\n",
       "      <td>Plot no PAP-X-105, /106 Bhamboli Khed, Khed, C...</td>\n",
       "      <td>NaN</td>\n",
       "      <td>NaN</td>\n",
       "      <td>NaN</td>\n",
       "      <td>NaN</td>\n",
       "      <td>NaN</td>\n",
       "      <td>NaN</td>\n",
       "    </tr>\n",
       "    <tr>\n",
       "      <th>3</th>\n",
       "      <td>24090402333</td>\n",
       "      <td>P3ECPN02</td>\n",
       "      <td>Open</td>\n",
       "      <td>8879218578</td>\n",
       "      <td>0</td>\n",
       "      <td>NaN</td>\n",
       "      <td>Technician Allocation Pending</td>\n",
       "      <td>Kate wasti, Charoli- Alandi, Pune, Alandi Deva...</td>\n",
       "      <td>NaN</td>\n",
       "      <td>NaN</td>\n",
       "      <td>NaN</td>\n",
       "      <td>NaN</td>\n",
       "      <td>NaN</td>\n",
       "      <td>NaN</td>\n",
       "    </tr>\n",
       "    <tr>\n",
       "      <th>4</th>\n",
       "      <td>24090321924</td>\n",
       "      <td>Ginger Hotel Pimpri</td>\n",
       "      <td>Open</td>\n",
       "      <td>7057603590</td>\n",
       "      <td>1</td>\n",
       "      <td>NaN</td>\n",
       "      <td>Technician Allocation Pending</td>\n",
       "      <td>Ambedkar chowk Kohinoor treding primaries ging...</td>\n",
       "      <td>NaN</td>\n",
       "      <td>NaN</td>\n",
       "      <td>NaN</td>\n",
       "      <td>NaN</td>\n",
       "      <td>NaN</td>\n",
       "      <td>NaN</td>\n",
       "    </tr>\n",
       "  </tbody>\n",
       "</table>\n",
       "</div>"
      ],
      "text/plain": [
       "         Sr no              Account status  Registered phone  Age  processing  \\\n",
       "0  24090321601  Ginger Hotel Pimpri   Open        7057603590    1         NaN   \n",
       "1  24090402464             P3ENMX08   Open        8879218578    0         NaN   \n",
       "2  24090401647             P3ENMX08   Open        8879218578    0         NaN   \n",
       "3  24090402333             P3ECPN02   Open        8879218578    0         NaN   \n",
       "4  24090321924  Ginger Hotel Pimpri   Open        7057603590    1         NaN   \n",
       "\n",
       "                      Sub status  \\\n",
       "0  Technician Allocation Pending   \n",
       "1  Technician Allocation Pending   \n",
       "2  Technician Allocation Pending   \n",
       "3  Technician Allocation Pending   \n",
       "4  Technician Allocation Pending   \n",
       "\n",
       "                                             Address  Unnamed: 8  Unnamed: 9  \\\n",
       "0  Ambedkar chowk Kohinoor treding primaries ging...         NaN         NaN   \n",
       "1  Plot no PAP-X-105, /106 Bhamboli Khed, Khed, C...         NaN         NaN   \n",
       "2  Plot no PAP-X-105, /106 Bhamboli Khed, Khed, C...         NaN         NaN   \n",
       "3  Kate wasti, Charoli- Alandi, Pune, Alandi Deva...         NaN         NaN   \n",
       "4  Ambedkar chowk Kohinoor treding primaries ging...         NaN         NaN   \n",
       "\n",
       "   Unnamed: 10  Unnamed: 11  Unnamed: 12  Unnamed: 13  \n",
       "0          NaN          NaN          NaN          NaN  \n",
       "1          NaN          NaN          NaN          NaN  \n",
       "2          NaN          NaN          NaN          NaN  \n",
       "3          NaN          NaN          NaN          NaN  \n",
       "4          NaN          NaN          NaN          NaN  "
      ]
     },
     "execution_count": 13,
     "metadata": {},
     "output_type": "execute_result"
    }
   ],
   "source": [
    "df1.head()"
   ]
  },
  {
   "cell_type": "code",
   "execution_count": 15,
   "id": "acf8ed64-6028-48cb-bba1-fd872f9d15da",
   "metadata": {},
   "outputs": [
    {
     "name": "stderr",
     "output_type": "stream",
     "text": [
      "C:\\Users\\admin\\anaconda3\\Lib\\site-packages\\seaborn\\_oldcore.py:1119: FutureWarning: use_inf_as_na option is deprecated and will be removed in a future version. Convert inf values to NaN before operating instead.\n",
      "  with pd.option_context('mode.use_inf_as_na', True):\n",
      "C:\\Users\\admin\\anaconda3\\Lib\\site-packages\\seaborn\\_oldcore.py:1119: FutureWarning: use_inf_as_na option is deprecated and will be removed in a future version. Convert inf values to NaN before operating instead.\n",
      "  with pd.option_context('mode.use_inf_as_na', True):\n"
     ]
    },
    {
     "data": {
      "image/png": "[encoded data removed]",
      "text/plain": [
       "<Figure size 600x600 with 3 Axes>"
      ]
     },
     "metadata": {},
     "output_type": "display_data"
    }
   ],
   "source": [
    "sns.jointplot(x='Age', y='status', data=df1, kind='scatter')\n",
    "plt.show()"
   ]
  },
  {
   "cell_type": "code",
   "execution_count": 25,
   "id": "10e4c50b-6576-408d-b369-347d3b2e52f8",
   "metadata": {},
   "outputs": [
    {
     "name": "stderr",
     "output_type": "stream",
     "text": [
      "C:\\Users\\admin\\anaconda3\\Lib\\site-packages\\seaborn\\_oldcore.py:1119: FutureWarning: use_inf_as_na option is deprecated and will be removed in a future version. Convert inf values to NaN before operating instead.\n",
      "  with pd.option_context('mode.use_inf_as_na', True):\n",
      "C:\\Users\\admin\\anaconda3\\Lib\\site-packages\\seaborn\\_oldcore.py:1119: FutureWarning: use_inf_as_na option is deprecated and will be removed in a future version. Convert inf values to NaN before operating instead.\n",
      "  with pd.option_context('mode.use_inf_as_na', True):\n"
     ]
    },
    {
     "data": {
      "image/png": "[encoded data removed]",
      "text/plain": [
       "<Figure size 1000x500 with 1 Axes>"
      ]
     },
     "metadata": {},
     "output_type": "display_data"
    }
   ],
   "source": [
    "with sns.axes_style('white'):\n",
    "    g = sns.catplot(x=\"processing\", y=\"Age\", data=df1, aspect=2, kind=\"strip\", color='steelblue')\n",
    "    g.set_xticklabels(step=5)\n",
    "    plt.show()"
   ]
  },
  {
   "cell_type": "code",
   "execution_count": null,
   "id": "9ae04f42-d6ab-4272-a214-f79cfa7e01a1",
   "metadata": {},
   "outputs": [],
   "source": []
  },
  {
   "cell_type": "code",
   "execution_count": null,
   "id": "76ccd7fa-dee8-4a09-9d56-8604e6496fe3",
   "metadata": {},
   "outputs": [],
   "source": []
  },
  {
   "cell_type": "code",
   "execution_count": null,
   "id": "6ef77e08-8912-438e-b97f-35b068a2e834",
   "metadata": {},
   "outputs": [],
   "source": []
  },
  {
   "cell_type": "code",
   "execution_count": null,
   "id": "da60acaf-239b-4888-a4ec-eb7bbae5eda5",
   "metadata": {},
   "outputs": [],
   "source": []
  },
  {
   "cell_type": "code",
   "execution_count": null,
   "id": "a3193d37-7653-4fdc-9bd9-5dfc869db55a",
   "metadata": {},
   "outputs": [],
   "source": []
  }
 ],
 "metadata": {
  "kernelspec": {
   "display_name": "Python 3 (ipykernel)",
   "language": "python",
   "name": "python3"
  },
  "language_info": {
   "codemirror_mode": {
    "name": "ipython",
    "version": 3
   },
   "file_extension": ".py",
   "mimetype": "text/x-python",
   "name": "python",
   "nbconvert_exporter": "python",
   "pygments_lexer": "ipython3",
   "version": "3.11.7"
  }
 },
 "nbformat": 4,
 "nbformat_minor": 5
}
